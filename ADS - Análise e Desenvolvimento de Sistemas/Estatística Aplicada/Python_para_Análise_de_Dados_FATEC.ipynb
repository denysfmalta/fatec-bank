{
  "nbformat": 4,
  "nbformat_minor": 0,
  "metadata": {
    "colab": {
      "provenance": []
    },
    "kernelspec": {
      "name": "python3",
      "display_name": "Python 3"
    },
    "language_info": {
      "name": "python"
    }
  },
  "cells": [
    {
      "cell_type": "markdown",
      "source": [
        "#ETL com python e pandas"
      ],
      "metadata": {
        "id": "rZPLnGUPNrqT"
      }
    },
    {
      "cell_type": "markdown",
      "source": [
        "O que é ETL\n",
        "\n",
        "ETL vem do nome Extract-Transform-Load (em português: Extrair-Transformar-Carregar). Chama-se de ETL todo processo onde se extrai dados geralmente de fontes brutas (Banco de dados de aplicações, APIs de aplicações web, dados provenientes de Web-Scraping etc) e os trata para posteriormente serem usados tanto por seres humanos (análises e criação de dashboards) quando por máquinas (Machine Learning). Neste exemplo, iremos ler dados de relatórios extraídos em formato de planilha e os trataremos para realizar possíveis análises"
      ],
      "metadata": {
        "id": "Bp65kxaGN3I2"
      }
    },
    {
      "cell_type": "markdown",
      "source": [
        "Nossa base\n",
        "\n",
        "Nessa aula iremos realizar uma análise da base de clientes de um e-commerce localizado na cidade de Franca"
      ],
      "metadata": {
        "id": "X4DFQkk1Wf_n"
      }
    },
    {
      "cell_type": "markdown",
      "source": [
        "## Importação das bibliotecas"
      ],
      "metadata": {
        "id": "O3kKPsx5cnEX"
      }
    },
    {
      "cell_type": "code",
      "execution_count": 7,
      "metadata": {
        "id": "iwcWmdzgqxSY",
        "colab": {
          "base_uri": "https://localhost:8080/"
        },
        "outputId": "ec3eca1a-b508-4dbf-fa1c-49f5bf9cd95e"
      },
      "outputs": [
        {
          "output_type": "stream",
          "name": "stdout",
          "text": [
            "Drive already mounted at /content/drive; to attempt to forcibly remount, call drive.mount(\"/content/drive\", force_remount=True).\n"
          ]
        }
      ],
      "source": [
        "# Autenticação para ler arquivos do Google Drive\n",
        "from google.colab import drive, auth\n",
        "\n",
        "# Bibliotecas para realizar tratativas de dados\n",
        "import pandas as pd\n",
        "import numpy as np\n",
        "from datetime import datetime, date\n",
        "\n",
        "# GLOB: facilita leitura de diretórios\n",
        "from glob import glob\n",
        "\n",
        "# Bibliotecas de visualização de dados\n",
        "import plotly.express as px\n",
        "from plotly.subplots import make_subplots\n",
        "import matplotlib.pyplot as plt\n",
        "import seaborn as sns\n",
        "\n",
        "# Montagem do drive\n",
        "drive.mount('/content/drive')"
      ]
    },
    {
      "cell_type": "markdown",
      "source": [
        "## Tratativa da base de cliente"
      ],
      "metadata": {
        "id": "dkIeziGGcqbq"
      }
    },
    {
      "cell_type": "markdown",
      "source": [
        "###Leitura de arquivos"
      ],
      "metadata": {
        "id": "ozVupHLMgErl"
      }
    },
    {
      "cell_type": "markdown",
      "source": [
        "A biblioteca glob permite lermos todos os arquivos de uma pasta. Com isto, iteramos cada um dos arquivos, lendo-os e consolidando-os em uma lista de dataframes, onde podemos usar a função concat para criar um dataframe único"
      ],
      "metadata": {
        "id": "YdGrfYZ-fdGd"
      }
    },
    {
      "cell_type": "code",
      "source": [
        "arquivos_clientes = glob(\"/content/drive/MyDrive/Projetos/Aula pandas/Relatórios de cliente anonimizados/*.xlsx\")\n",
        "dataframe_list_clientes = []\n",
        "for arquivo in arquivos_clientes:\n",
        "    dataframe_temp_clientes = pd.read_excel(io=arquivo)\n",
        "    dataframe_list_clientes.append(dataframe_temp_clientes)\n",
        "dataframe_clientes_raw = pd.concat(dataframe_list_clientes)"
      ],
      "metadata": {
        "id": "gk_wlUQubww8",
        "colab": {
          "base_uri": "https://localhost:8080/",
          "height": 356
        },
        "outputId": "79bff06f-0ac6-4f1e-c3e1-313499e350db"
      },
      "execution_count": 8,
      "outputs": [
        {
          "output_type": "error",
          "ename": "KeyboardInterrupt",
          "evalue": "",
          "traceback": [
            "\u001b[0;31m---------------------------------------------------------------------------\u001b[0m",
            "\u001b[0;31mKeyboardInterrupt\u001b[0m                         Traceback (most recent call last)",
            "\u001b[0;32m<ipython-input-8-4f845b8d062f>\u001b[0m in \u001b[0;36m<cell line: 3>\u001b[0;34m()\u001b[0m\n\u001b[1;32m      2\u001b[0m \u001b[0mdataframe_list_clientes\u001b[0m \u001b[0;34m=\u001b[0m \u001b[0;34m[\u001b[0m\u001b[0;34m]\u001b[0m\u001b[0;34m\u001b[0m\u001b[0;34m\u001b[0m\u001b[0m\n\u001b[1;32m      3\u001b[0m \u001b[0;32mfor\u001b[0m \u001b[0marquivo\u001b[0m \u001b[0;32min\u001b[0m \u001b[0marquivos_clientes\u001b[0m\u001b[0;34m:\u001b[0m\u001b[0;34m\u001b[0m\u001b[0;34m\u001b[0m\u001b[0m\n\u001b[0;32m----> 4\u001b[0;31m     \u001b[0mdataframe_temp_clientes\u001b[0m \u001b[0;34m=\u001b[0m \u001b[0mpd\u001b[0m\u001b[0;34m.\u001b[0m\u001b[0mread_excel\u001b[0m\u001b[0;34m(\u001b[0m\u001b[0mio\u001b[0m\u001b[0;34m=\u001b[0m\u001b[0marquivo\u001b[0m\u001b[0;34m)\u001b[0m\u001b[0;34m\u001b[0m\u001b[0;34m\u001b[0m\u001b[0m\n\u001b[0m\u001b[1;32m      5\u001b[0m     \u001b[0mdataframe_list_clientes\u001b[0m\u001b[0;34m.\u001b[0m\u001b[0mappend\u001b[0m\u001b[0;34m(\u001b[0m\u001b[0mdataframe_temp_clientes\u001b[0m\u001b[0;34m)\u001b[0m\u001b[0;34m\u001b[0m\u001b[0;34m\u001b[0m\u001b[0m\n\u001b[1;32m      6\u001b[0m \u001b[0mdataframe_clientes_raw\u001b[0m \u001b[0;34m=\u001b[0m \u001b[0mpd\u001b[0m\u001b[0;34m.\u001b[0m\u001b[0mconcat\u001b[0m\u001b[0;34m(\u001b[0m\u001b[0mdataframe_list_clientes\u001b[0m\u001b[0;34m)\u001b[0m\u001b[0;34m\u001b[0m\u001b[0;34m\u001b[0m\u001b[0m\n",
            "\u001b[0;32m/usr/local/lib/python3.10/dist-packages/pandas/io/excel/_base.py\u001b[0m in \u001b[0;36mread_excel\u001b[0;34m(io, sheet_name, header, names, index_col, usecols, dtype, engine, converters, true_values, false_values, skiprows, nrows, na_values, keep_default_na, na_filter, verbose, parse_dates, date_parser, date_format, thousands, decimal, comment, skipfooter, storage_options, dtype_backend)\u001b[0m\n\u001b[1;32m    484\u001b[0m \u001b[0;34m\u001b[0m\u001b[0m\n\u001b[1;32m    485\u001b[0m     \u001b[0;32mtry\u001b[0m\u001b[0;34m:\u001b[0m\u001b[0;34m\u001b[0m\u001b[0;34m\u001b[0m\u001b[0m\n\u001b[0;32m--> 486\u001b[0;31m         data = io.parse(\n\u001b[0m\u001b[1;32m    487\u001b[0m             \u001b[0msheet_name\u001b[0m\u001b[0;34m=\u001b[0m\u001b[0msheet_name\u001b[0m\u001b[0;34m,\u001b[0m\u001b[0;34m\u001b[0m\u001b[0;34m\u001b[0m\u001b[0m\n\u001b[1;32m    488\u001b[0m             \u001b[0mheader\u001b[0m\u001b[0;34m=\u001b[0m\u001b[0mheader\u001b[0m\u001b[0;34m,\u001b[0m\u001b[0;34m\u001b[0m\u001b[0;34m\u001b[0m\u001b[0m\n",
            "\u001b[0;32m/usr/local/lib/python3.10/dist-packages/pandas/io/excel/_base.py\u001b[0m in \u001b[0;36mparse\u001b[0;34m(self, sheet_name, header, names, index_col, usecols, converters, true_values, false_values, skiprows, nrows, na_values, parse_dates, date_parser, date_format, thousands, comment, skipfooter, dtype_backend, **kwds)\u001b[0m\n\u001b[1;32m   1549\u001b[0m             \u001b[0mDataFrame\u001b[0m \u001b[0;32mfrom\u001b[0m \u001b[0mthe\u001b[0m \u001b[0mpassed\u001b[0m \u001b[0;32min\u001b[0m \u001b[0mExcel\u001b[0m \u001b[0mfile\u001b[0m\u001b[0;34m.\u001b[0m\u001b[0;34m\u001b[0m\u001b[0;34m\u001b[0m\u001b[0m\n\u001b[1;32m   1550\u001b[0m         \"\"\"\n\u001b[0;32m-> 1551\u001b[0;31m         return self._reader.parse(\n\u001b[0m\u001b[1;32m   1552\u001b[0m             \u001b[0msheet_name\u001b[0m\u001b[0;34m=\u001b[0m\u001b[0msheet_name\u001b[0m\u001b[0;34m,\u001b[0m\u001b[0;34m\u001b[0m\u001b[0;34m\u001b[0m\u001b[0m\n\u001b[1;32m   1553\u001b[0m             \u001b[0mheader\u001b[0m\u001b[0;34m=\u001b[0m\u001b[0mheader\u001b[0m\u001b[0;34m,\u001b[0m\u001b[0;34m\u001b[0m\u001b[0;34m\u001b[0m\u001b[0m\n",
            "\u001b[0;32m/usr/local/lib/python3.10/dist-packages/pandas/io/excel/_base.py\u001b[0m in \u001b[0;36mparse\u001b[0;34m(self, sheet_name, header, names, index_col, usecols, dtype, true_values, false_values, skiprows, nrows, na_values, verbose, parse_dates, date_parser, date_format, thousands, decimal, comment, skipfooter, dtype_backend, **kwds)\u001b[0m\n\u001b[1;32m    749\u001b[0m \u001b[0;34m\u001b[0m\u001b[0m\n\u001b[1;32m    750\u001b[0m             \u001b[0mfile_rows_needed\u001b[0m \u001b[0;34m=\u001b[0m \u001b[0mself\u001b[0m\u001b[0;34m.\u001b[0m\u001b[0m_calc_rows\u001b[0m\u001b[0;34m(\u001b[0m\u001b[0mheader\u001b[0m\u001b[0;34m,\u001b[0m \u001b[0mindex_col\u001b[0m\u001b[0;34m,\u001b[0m \u001b[0mskiprows\u001b[0m\u001b[0;34m,\u001b[0m \u001b[0mnrows\u001b[0m\u001b[0;34m)\u001b[0m\u001b[0;34m\u001b[0m\u001b[0;34m\u001b[0m\u001b[0m\n\u001b[0;32m--> 751\u001b[0;31m             \u001b[0mdata\u001b[0m \u001b[0;34m=\u001b[0m \u001b[0mself\u001b[0m\u001b[0;34m.\u001b[0m\u001b[0mget_sheet_data\u001b[0m\u001b[0;34m(\u001b[0m\u001b[0msheet\u001b[0m\u001b[0;34m,\u001b[0m \u001b[0mfile_rows_needed\u001b[0m\u001b[0;34m)\u001b[0m\u001b[0;34m\u001b[0m\u001b[0;34m\u001b[0m\u001b[0m\n\u001b[0m\u001b[1;32m    752\u001b[0m             \u001b[0;32mif\u001b[0m \u001b[0mhasattr\u001b[0m\u001b[0;34m(\u001b[0m\u001b[0msheet\u001b[0m\u001b[0;34m,\u001b[0m \u001b[0;34m\"close\"\u001b[0m\u001b[0;34m)\u001b[0m\u001b[0;34m:\u001b[0m\u001b[0;34m\u001b[0m\u001b[0;34m\u001b[0m\u001b[0m\n\u001b[1;32m    753\u001b[0m                 \u001b[0;31m# pyxlsb opens two TemporaryFiles\u001b[0m\u001b[0;34m\u001b[0m\u001b[0;34m\u001b[0m\u001b[0m\n",
            "\u001b[0;32m/usr/local/lib/python3.10/dist-packages/pandas/io/excel/_openpyxl.py\u001b[0m in \u001b[0;36mget_sheet_data\u001b[0;34m(self, sheet, file_rows_needed)\u001b[0m\n\u001b[1;32m    600\u001b[0m         \u001b[0mdata\u001b[0m\u001b[0;34m:\u001b[0m \u001b[0mlist\u001b[0m\u001b[0;34m[\u001b[0m\u001b[0mlist\u001b[0m\u001b[0;34m[\u001b[0m\u001b[0mScalar\u001b[0m\u001b[0;34m]\u001b[0m\u001b[0;34m]\u001b[0m \u001b[0;34m=\u001b[0m \u001b[0;34m[\u001b[0m\u001b[0;34m]\u001b[0m\u001b[0;34m\u001b[0m\u001b[0;34m\u001b[0m\u001b[0m\n\u001b[1;32m    601\u001b[0m         \u001b[0mlast_row_with_data\u001b[0m \u001b[0;34m=\u001b[0m \u001b[0;34m-\u001b[0m\u001b[0;36m1\u001b[0m\u001b[0;34m\u001b[0m\u001b[0;34m\u001b[0m\u001b[0m\n\u001b[0;32m--> 602\u001b[0;31m         \u001b[0;32mfor\u001b[0m \u001b[0mrow_number\u001b[0m\u001b[0;34m,\u001b[0m \u001b[0mrow\u001b[0m \u001b[0;32min\u001b[0m \u001b[0menumerate\u001b[0m\u001b[0;34m(\u001b[0m\u001b[0msheet\u001b[0m\u001b[0;34m.\u001b[0m\u001b[0mrows\u001b[0m\u001b[0;34m)\u001b[0m\u001b[0;34m:\u001b[0m\u001b[0;34m\u001b[0m\u001b[0;34m\u001b[0m\u001b[0m\n\u001b[0m\u001b[1;32m    603\u001b[0m             \u001b[0mconverted_row\u001b[0m \u001b[0;34m=\u001b[0m \u001b[0;34m[\u001b[0m\u001b[0mself\u001b[0m\u001b[0;34m.\u001b[0m\u001b[0m_convert_cell\u001b[0m\u001b[0;34m(\u001b[0m\u001b[0mcell\u001b[0m\u001b[0;34m)\u001b[0m \u001b[0;32mfor\u001b[0m \u001b[0mcell\u001b[0m \u001b[0;32min\u001b[0m \u001b[0mrow\u001b[0m\u001b[0;34m]\u001b[0m\u001b[0;34m\u001b[0m\u001b[0;34m\u001b[0m\u001b[0m\n\u001b[1;32m    604\u001b[0m             \u001b[0;32mwhile\u001b[0m \u001b[0mconverted_row\u001b[0m \u001b[0;32mand\u001b[0m \u001b[0mconverted_row\u001b[0m\u001b[0;34m[\u001b[0m\u001b[0;34m-\u001b[0m\u001b[0;36m1\u001b[0m\u001b[0;34m]\u001b[0m \u001b[0;34m==\u001b[0m \u001b[0;34m\"\"\u001b[0m\u001b[0;34m:\u001b[0m\u001b[0;34m\u001b[0m\u001b[0;34m\u001b[0m\u001b[0m\n",
            "\u001b[0;32m/usr/local/lib/python3.10/dist-packages/openpyxl/worksheet/_read_only.py\u001b[0m in \u001b[0;36m_cells_by_row\u001b[0;34m(self, min_col, min_row, max_col, max_row, values_only)\u001b[0m\n\u001b[1;32m     79\u001b[0m                                  \u001b[0mdata_only\u001b[0m\u001b[0;34m=\u001b[0m\u001b[0mself\u001b[0m\u001b[0;34m.\u001b[0m\u001b[0mparent\u001b[0m\u001b[0;34m.\u001b[0m\u001b[0mdata_only\u001b[0m\u001b[0;34m,\u001b[0m \u001b[0mepoch\u001b[0m\u001b[0;34m=\u001b[0m\u001b[0mself\u001b[0m\u001b[0;34m.\u001b[0m\u001b[0mparent\u001b[0m\u001b[0;34m.\u001b[0m\u001b[0mepoch\u001b[0m\u001b[0;34m,\u001b[0m\u001b[0;34m\u001b[0m\u001b[0;34m\u001b[0m\u001b[0m\n\u001b[1;32m     80\u001b[0m                                  date_formats=self.parent._date_formats)\n\u001b[0;32m---> 81\u001b[0;31m         \u001b[0;32mfor\u001b[0m \u001b[0midx\u001b[0m\u001b[0;34m,\u001b[0m \u001b[0mrow\u001b[0m \u001b[0;32min\u001b[0m \u001b[0mparser\u001b[0m\u001b[0;34m.\u001b[0m\u001b[0mparse\u001b[0m\u001b[0;34m(\u001b[0m\u001b[0;34m)\u001b[0m\u001b[0;34m:\u001b[0m\u001b[0;34m\u001b[0m\u001b[0;34m\u001b[0m\u001b[0m\n\u001b[0m\u001b[1;32m     82\u001b[0m             \u001b[0;32mif\u001b[0m \u001b[0mmax_row\u001b[0m \u001b[0;32mis\u001b[0m \u001b[0;32mnot\u001b[0m \u001b[0;32mNone\u001b[0m \u001b[0;32mand\u001b[0m \u001b[0midx\u001b[0m \u001b[0;34m>\u001b[0m \u001b[0mmax_row\u001b[0m\u001b[0;34m:\u001b[0m\u001b[0;34m\u001b[0m\u001b[0;34m\u001b[0m\u001b[0m\n\u001b[1;32m     83\u001b[0m                 \u001b[0;32mbreak\u001b[0m\u001b[0;34m\u001b[0m\u001b[0;34m\u001b[0m\u001b[0m\n",
            "\u001b[0;32m/usr/local/lib/python3.10/dist-packages/openpyxl/worksheet/_reader.py\u001b[0m in \u001b[0;36mparse\u001b[0;34m(self)\u001b[0m\n\u001b[1;32m    166\u001b[0m             \u001b[0;32melif\u001b[0m \u001b[0mtag_name\u001b[0m \u001b[0;34m==\u001b[0m \u001b[0mROW_TAG\u001b[0m\u001b[0;34m:\u001b[0m\u001b[0;34m\u001b[0m\u001b[0;34m\u001b[0m\u001b[0m\n\u001b[1;32m    167\u001b[0m                 \u001b[0mrow\u001b[0m \u001b[0;34m=\u001b[0m \u001b[0mself\u001b[0m\u001b[0;34m.\u001b[0m\u001b[0mparse_row\u001b[0m\u001b[0;34m(\u001b[0m\u001b[0melement\u001b[0m\u001b[0;34m)\u001b[0m\u001b[0;34m\u001b[0m\u001b[0;34m\u001b[0m\u001b[0m\n\u001b[0;32m--> 168\u001b[0;31m                 \u001b[0melement\u001b[0m\u001b[0;34m.\u001b[0m\u001b[0mclear\u001b[0m\u001b[0;34m(\u001b[0m\u001b[0;34m)\u001b[0m\u001b[0;34m\u001b[0m\u001b[0;34m\u001b[0m\u001b[0m\n\u001b[0m\u001b[1;32m    169\u001b[0m                 \u001b[0;32myield\u001b[0m \u001b[0mrow\u001b[0m\u001b[0;34m\u001b[0m\u001b[0;34m\u001b[0m\u001b[0m\n\u001b[1;32m    170\u001b[0m \u001b[0;34m\u001b[0m\u001b[0m\n",
            "\u001b[0;31mKeyboardInterrupt\u001b[0m: "
          ]
        }
      ]
    },
    {
      "cell_type": "markdown",
      "source": [
        "### Tratativas iniciais e seleções de coluna"
      ],
      "metadata": {
        "id": "9-o-ymC0g0qG"
      }
    },
    {
      "cell_type": "markdown",
      "source": [
        "Selecionando apenas colunas que serão usadas e as renomeando para padronizar\n",
        "\n",
        "Veja a sintaxe para selecionar colunas usando dois colchetes."
      ],
      "metadata": {
        "id": "mY2mcpBPhGJI"
      }
    },
    {
      "cell_type": "code",
      "source": [
        "dataframe_clientes = dataframe_clientes[[\n",
        "    \"id\",\n",
        "    \"CPF\",\n",
        "    \"Cidade\",\n",
        "    \"Estado\",\n",
        "    \"Sexo\",\n",
        "    \"Data Cadastro\",\n",
        "    \"Hora Cadastro\",\n",
        "    \"nascimento\"\n",
        "]]\n",
        "\n",
        "dataframe_clientes = dataframe_clientes.rename(columns={\n",
        "    \"id\": \"id_cliente\",\n",
        "    \"Cidade\": \"cidade\",\n",
        "    \"Estado\": \"estado\",\n",
        "    \"Sexo\": \"sexo\",\n",
        "    \"nascimento\": \"data_nascimento\",\n",
        "    \"CPF\": \"cpf\",\n",
        "})"
      ],
      "metadata": {
        "id": "nCI2E4Ledp8T"
      },
      "execution_count": null,
      "outputs": []
    },
    {
      "cell_type": "markdown",
      "source": [
        "Explorando os primeiros resultados\n",
        "\n",
        "A função .head() (do inglês 'cabeça') permite exibir os N primeiros registros de um dataframe, com o valor de N padronizado em 5."
      ],
      "metadata": {
        "id": "33DRcaprhYA7"
      }
    },
    {
      "cell_type": "code",
      "source": [
        "dataframe_clientes.head()"
      ],
      "metadata": {
        "id": "J3BtxPIahUgr"
      },
      "execution_count": null,
      "outputs": []
    },
    {
      "cell_type": "markdown",
      "source": [
        "O atributo shape permite saber a quantidade de linhas e colunas do nosso dataframe"
      ],
      "metadata": {
        "id": "12eOxiM4SuRI"
      }
    },
    {
      "cell_type": "code",
      "source": [
        "dataframe_clientes.shape"
      ],
      "metadata": {
        "id": "sYHRxhYShp1z"
      },
      "execution_count": null,
      "outputs": []
    },
    {
      "cell_type": "markdown",
      "source": [
        "A função count chamada diretamente no dataframe irá retornar a contagem de valores não nulos em cada coluna."
      ],
      "metadata": {
        "id": "bHubvA7LS80s"
      }
    },
    {
      "cell_type": "code",
      "source": [
        "dataframe_clientes.count()"
      ],
      "metadata": {
        "id": "FP79lwIthb0T"
      },
      "execution_count": null,
      "outputs": []
    },
    {
      "cell_type": "markdown",
      "source": [
        "Perceba que temos 7 registros que estão com alguns campos em branco"
      ],
      "metadata": {
        "id": "iwazF60NTgVr"
      }
    },
    {
      "cell_type": "markdown",
      "source": [
        "O atributo dtypes mostra o tipo de cada coluna. Isto é importante para checarmos se as colunas estão em formato numérico, string, data, booleano, etc. o valor 'object' geralmente significa que a coluna é do tipo string, porém pode representar um tipo não mapeado pelo pandas"
      ],
      "metadata": {
        "id": "n-SZ_grGTAnE"
      }
    },
    {
      "cell_type": "code",
      "source": [
        "dataframe_clientes.head()"
      ],
      "metadata": {
        "id": "IwF8rg2Chv31"
      },
      "execution_count": null,
      "outputs": []
    },
    {
      "cell_type": "markdown",
      "source": [
        "### Tratativas avançadas"
      ],
      "metadata": {
        "id": "ALOKk3DoiIT-"
      }
    },
    {
      "cell_type": "markdown",
      "source": [
        "Corrigindo tipo das colunas de data\n",
        "\n",
        "Ao se trabalhar com datas, é importante que o formato da coluna seja do tipo datetime. Isso nos vai permitir fazer comparações entre datas sem erros, além de permitir operações envolvendo datas."
      ],
      "metadata": {
        "id": "Jq7bTcGaiMQt"
      }
    },
    {
      "cell_type": "code",
      "source": [
        "dataframe_clientes[\"data_cadastro\"] = dataframe_clientes[\"Data Cadastro\"] + dataframe_clientes['Hora Cadastro']\n",
        "dataframe_clientes.head()"
      ],
      "metadata": {
        "id": "UmlLOyQ0iT_k"
      },
      "execution_count": null,
      "outputs": []
    },
    {
      "cell_type": "code",
      "source": [
        "dataframe_clientes[\"data_cadastro\"] = pd.to_datetime(dataframe_clientes[\"data_cadastro\"], format=\"%d/%m/%Y%H:%M:%S\").dt.floor('s')\n",
        "dataframe_clientes[\"data_nascimento\"] = pd.to_datetime(dataframe_clientes[\"data_nascimento\"], format=\"%Y-%m-%d\")\n",
        "dataframe_clientes.head()"
      ],
      "metadata": {
        "id": "Efx4ZXw1ibPk"
      },
      "execution_count": null,
      "outputs": []
    },
    {
      "cell_type": "code",
      "source": [
        "dataframe_clientes.dtypes"
      ],
      "metadata": {
        "id": "_70alwgsipfU"
      },
      "execution_count": null,
      "outputs": []
    },
    {
      "cell_type": "markdown",
      "source": [
        "Coluna de Região do Brasil. Realizando um \"PROCV\" no pandas"
      ],
      "metadata": {
        "id": "q2mSm7UaiyYm"
      }
    },
    {
      "cell_type": "markdown",
      "source": [
        "Nesta etapa, instanciei um dicionário fazendo um De-para de estado para região que o estado pertence."
      ],
      "metadata": {
        "id": "UBFm8uLXTmwf"
      }
    },
    {
      "cell_type": "code",
      "source": [
        "de_para_regioes = {\"AC\": \"Norte\",\n",
        "\"AL\": \"Nordeste\",\n",
        "\"AP\": \"Norte\",\n",
        "\"AM\": \"Norte\",\n",
        "\"BA\": \"Nordeste\",\n",
        "\"CE\": \"Nordeste\",\n",
        "\"DF\": \"Centro-oeste\",\n",
        "\"ES\": \"Sudeste\",\n",
        "\"GO\": \"Centro-oeste\",\n",
        "\"MA\": \"Nordeste\",\n",
        "\"MT\": \"Centro-oeste\",\n",
        "\"MS\": \"Centro-oeste\",\n",
        "\"MG\": \"Sudeste\",\n",
        "\"PA\": \"Norte\",\n",
        "\"PB\": \"Nordeste\",\n",
        "\"PR\": \"Sul\",\n",
        "\"PE\": \"Nordeste\",\n",
        "\"PI\": \"Nordeste\",\n",
        "\"RJ\": \"Sudeste\",\n",
        "\"RN\": \"Nordeste\",\n",
        "\"RS\": \"Sul\",\n",
        "\"RO\": \"Norte\",\n",
        "\"RR\": \"Norte\",\n",
        "\"SC\": \"Sul\",\n",
        "\"SP\": \"Sudeste\",\n",
        "\"SE\": \"Nordeste\",\n",
        "\"TO\": \"Norte\"}\n",
        "dataframe_clientes[\"regiao\"] = dataframe_clientes[\"estado\"].map(de_para_regioes)"
      ],
      "metadata": {
        "id": "vtCEgN6UcxlM"
      },
      "execution_count": null,
      "outputs": []
    },
    {
      "cell_type": "markdown",
      "source": [
        "Coluna de idade: calculando qual era a idade do cliente no dia 01/09/2023\n",
        "\n",
        "Aqui usamos a coluna de data de nascimento já parametrizada para fazer um cálculo da idade dos clientes"
      ],
      "metadata": {
        "id": "dwpeoQGWi-2r"
      }
    },
    {
      "cell_type": "code",
      "source": [
        "dataframe_clientes[\"idade\"] = round((datetime(2023,9,1,0,0,0) - dataframe_clientes['data_nascimento']).dt.days / 365.25)"
      ],
      "metadata": {
        "id": "4EV48mnvjFtE"
      },
      "execution_count": null,
      "outputs": []
    },
    {
      "cell_type": "markdown",
      "source": [
        "Coluna da faixa etária. Usando a função pd.cut para simplificar o processo de clusterização\n",
        "\n",
        "Iremos trabalhar com faixas etárias e não com a idade cheia, para que façamos análises com grupos maiores."
      ],
      "metadata": {
        "id": "hMj87ajOjIAb"
      }
    },
    {
      "cell_type": "code",
      "source": [
        "dataframe_clientes[\"faixa_etaria\"] = pd.cut(x=dataframe_clientes[\"idade\"],\n",
        "                                            bins=[-1,14,17,24,35,45,55,65,999],\n",
        "                                            labels=[\"0 a 14 anos\", \"15 a 17 anos\",\"18 a 24 anos\", \"25 a 34 anos\",\n",
        "                                                    \"35 a 44 anos\", \"45 a 54 anos\", \"55 a 64 anos\", \"Acima de 65 anos\"])\n",
        "dataframe_clientes = dataframe_clientes.drop(columns=[\"Data Cadastro\", \"Hora Cadastro\"])"
      ],
      "metadata": {
        "id": "c4dwKL5ei71U"
      },
      "execution_count": null,
      "outputs": []
    },
    {
      "cell_type": "code",
      "source": [
        "dataframe_clientes.head()"
      ],
      "metadata": {
        "id": "dIrjc7hZjUY1"
      },
      "execution_count": null,
      "outputs": []
    },
    {
      "cell_type": "code",
      "source": [
        "dataframe_clientes.info()"
      ],
      "metadata": {
        "id": "ykn63HW2jX7s"
      },
      "execution_count": null,
      "outputs": []
    },
    {
      "cell_type": "markdown",
      "source": [
        "### Tratativa final: removendo clientes sem CPF e exlcuindo a coluna de CPF"
      ],
      "metadata": {
        "id": "icatlukvjlc-"
      }
    },
    {
      "cell_type": "markdown",
      "source": [
        "Aqui iremos utilizar um filtro do pandas. Repare na sintaxe. o 'tio' (~) expressa uma negação da lógica que o procede, ou seja iremos manter apenas registros onde o campo cpf não for nulo."
      ],
      "metadata": {
        "id": "mKsj2omDUKLg"
      }
    },
    {
      "cell_type": "code",
      "source": [
        "dataframe_clientes_final = dataframe_clientes[~dataframe_clientes[\"cpf\"].isna()]\n",
        "dataframe_clientes_final = dataframe_clientes_final.drop(columns=[\"cpf\"])"
      ],
      "metadata": {
        "id": "DsE9plPxjhcI"
      },
      "execution_count": null,
      "outputs": []
    },
    {
      "cell_type": "code",
      "source": [
        "dataframe_clientes_final.info()"
      ],
      "metadata": {
        "id": "uZo2ebtWjpHM"
      },
      "execution_count": null,
      "outputs": []
    },
    {
      "cell_type": "markdown",
      "source": [
        "Essa é a cara do nosso dataset de clientes finalizadas as tratativas"
      ],
      "metadata": {
        "id": "5ohMqLK1UZD3"
      }
    },
    {
      "cell_type": "code",
      "source": [
        "dataframe_clientes_final.head()"
      ],
      "metadata": {
        "id": "csJTvbhcjr67"
      },
      "execution_count": null,
      "outputs": []
    },
    {
      "cell_type": "markdown",
      "source": [
        "Aqui usaremos uma das bibliotecas de criação de gráficos para fazer uma análise inicial da nossa base de clientes"
      ],
      "metadata": {
        "id": "v3514gCeUcYU"
      }
    },
    {
      "cell_type": "code",
      "source": [
        "sns.countplot(x = dataframe_clientes_final[\"sexo\"])"
      ],
      "metadata": {
        "id": "Tr1Va2uauJks"
      },
      "execution_count": null,
      "outputs": []
    },
    {
      "cell_type": "markdown",
      "source": [
        "Percebemos que ser trata de uma base quase que totalmente composta por homens"
      ],
      "metadata": {
        "id": "fyRM-Sq4Upys"
      }
    },
    {
      "cell_type": "code",
      "source": [
        "px.histogram(x=dataframe_clientes_final[\"idade\"], nbins=100)"
      ],
      "metadata": {
        "id": "IYuGcn2Et3v0"
      },
      "execution_count": null,
      "outputs": []
    },
    {
      "cell_type": "markdown",
      "source": [
        "Aqui, notamos a predominância de um público na faixa dos 30 a 45 anos. Alem disso, temos alguns outliers de clientes cadastrados com menos de 15 anos, e outros com mais de 100 anos. Vamos limitar a base entre 16 e 80 anos"
      ],
      "metadata": {
        "id": "fK9ewKDZUwAR"
      }
    },
    {
      "cell_type": "code",
      "source": [
        "dataframe_clientes_final = dataframe_clientes_final[dataframe_clientes_final[\"idade\"].between(16, 80)]"
      ],
      "metadata": {
        "id": "BRBdwFcgmuOa"
      },
      "execution_count": null,
      "outputs": []
    },
    {
      "cell_type": "code",
      "source": [
        "df1 = dataframe_clientes_final.groupby(\"regiao\").agg({\"id_cliente\": \"count\"}).reset_index().sort_values(by=\"id_cliente\", ascending=True)\n",
        "\n",
        "fig = px.bar(df1, x=\"id_cliente\", y=\"regiao\", orientation='h')\n",
        "fig.show()"
      ],
      "metadata": {
        "id": "j8mnwqQuw8Pz"
      },
      "execution_count": null,
      "outputs": []
    },
    {
      "cell_type": "markdown",
      "source": [
        "## Tratativa da base de pedidos"
      ],
      "metadata": {
        "id": "0VUC2LDjmhuo"
      }
    },
    {
      "cell_type": "markdown",
      "source": [
        "### Leitura de arquivos"
      ],
      "metadata": {
        "id": "83R5LP52oa7R"
      }
    },
    {
      "cell_type": "code",
      "source": [
        "files_pedidos = glob(\"/content/drive/MyDrive/Projetos/Aula pandas/Relatórios de venda anonimizados/*.xlsx\")\n",
        "dataframe_list_pedidos = []\n",
        "for arquivo in files_pedidos:\n",
        "    dataframe_temp_pedidos = pd.read_excel(io=arquivo)\n",
        "    dataframe_list_pedidos.append(dataframe_temp_pedidos)"
      ],
      "metadata": {
        "id": "M-MryC-QnVOy"
      },
      "execution_count": null,
      "outputs": []
    },
    {
      "cell_type": "code",
      "source": [
        "dataframe_pedidos_raw = pd.concat(dataframe_list_pedidos)\n",
        "dataframe_pedidos_raw.shape"
      ],
      "metadata": {
        "id": "jRD127cDnm37"
      },
      "execution_count": null,
      "outputs": []
    },
    {
      "cell_type": "markdown",
      "source": [
        "### Selecionando colunas e tratativas iniciais"
      ],
      "metadata": {
        "id": "mLebWLl9of1i"
      }
    },
    {
      "cell_type": "code",
      "source": [
        "dataframe_pedidos = dataframe_pedidos_raw[[\n",
        "    \"Id do cliente que realizou o pedido\",\n",
        "    \"Id do Pedido\",\n",
        "    \"Data da criação do pedido\",\n",
        "    \"Hora da criação do pedido\",\n",
        "    \"Data pagamento\",\n",
        "    'Valor do pedido',\n",
        "    'Frete',\n",
        "    'Valor total do desconto do pedido',\n",
        "    \"Valor total\",\n",
        "    \"Status Resumido\",\n",
        "    \"Status do pedido\"\n",
        "]]\n",
        "dataframe_pedidos = dataframe_pedidos.rename(columns={\n",
        "    \"Id do cliente que realizou o pedido\": \"id_cliente\",\n",
        "    \"Id do Pedido\": \"id_pedido\",\n",
        "    \"Data da criação do pedido\": \"data_criacao\",\n",
        "    \"Data pagamento\": \"data_pagamento\",\n",
        "    \"Valor do pedido\": \"valor_pedido\",\n",
        "    \"Frete\": \"valor_frete\",\n",
        "    \"Valor total do desconto do pedido\": \"valor_desconto\",\n",
        "    \"Valor total\": \"valor_total\",\n",
        "    \"Status Resumido\": \"status_resumido\",\n",
        "    'Status do pedido': \"status_pedido\"\n",
        "})"
      ],
      "metadata": {
        "id": "Q6k0lLP7mjDG"
      },
      "execution_count": null,
      "outputs": []
    },
    {
      "cell_type": "code",
      "source": [
        "dataframe_pedidos.head()"
      ],
      "metadata": {
        "id": "v9YGtnlFowVL"
      },
      "execution_count": null,
      "outputs": []
    },
    {
      "cell_type": "markdown",
      "source": [
        "###Transformando coluna de valor em numérico"
      ],
      "metadata": {
        "id": "PANgdCslonfU"
      }
    },
    {
      "cell_type": "markdown",
      "source": [
        "Iremos criar uma função para transformar colunas que estão como texto em número"
      ],
      "metadata": {
        "id": "xT2fuybzoqS2"
      }
    },
    {
      "cell_type": "markdown",
      "source": [
        "A função de leitura de planilhas nem sempre é tão automatizada quanto ler um .csv por exemplo. Em alguns casos precisamos \"parsear\" os campos, ou seja, transformá-los em tipos que realmente esperamos que eles sejam. Nesse caso, estamos transformando os campos númericos (que foram lidos como string) em números"
      ],
      "metadata": {
        "id": "nrKhDn9zWzAI"
      }
    },
    {
      "cell_type": "code",
      "source": [
        "def string_to_float(pandas_series):\n",
        "    return pd.to_numeric(pandas_series.str.replace(\".\", \"\").str.replace(\",\", \".\"))\n",
        "\n",
        "for col in [\"valor_pedido\", \"valor_frete\", \"valor_desconto\", \"valor_total\"]:\n",
        "    dataframe_pedidos[col] = string_to_float(dataframe_pedidos[col])"
      ],
      "metadata": {
        "id": "2uKUDuXToiIV"
      },
      "execution_count": null,
      "outputs": []
    },
    {
      "cell_type": "markdown",
      "source": [
        "Convertendo colunas de data"
      ],
      "metadata": {
        "id": "A8iGFJwpo6nL"
      }
    },
    {
      "cell_type": "code",
      "source": [
        "dataframe_pedidos[\"data_pagamento\"] = pd.to_datetime(dataframe_pedidos[\"data_pagamento\"], format=\"%d/%m/%Y %H:%M:%S\")\n",
        "dataframe_pedidos[\"data_criacao\"] = pd.to_datetime(dataframe_pedidos[\"data_criacao\"] + dataframe_pedidos['Hora da criação do pedido'], format=\"%d/%m/%Y%H:%M:%S.%f\").dt.floor('s')"
      ],
      "metadata": {
        "id": "SUK0HZvWo3NS"
      },
      "execution_count": null,
      "outputs": []
    },
    {
      "cell_type": "code",
      "source": [
        "dataframe_pedidos.info()"
      ],
      "metadata": {
        "id": "qJCg7o93pEPU"
      },
      "execution_count": null,
      "outputs": []
    },
    {
      "cell_type": "code",
      "source": [
        "px.histogram(x=dataframe_pedidos[\"valor_total\"])"
      ],
      "metadata": {
        "id": "Kxyxya8NXI5N"
      },
      "execution_count": null,
      "outputs": []
    },
    {
      "cell_type": "markdown",
      "source": [
        "Vemos que os valores dos pedidos se concentram na faixa dos 350 reais. Além disso, notamos algo de estranho, pois há uma quantidade grande de pedidos com valor entre -5 e 4,99. Vamos dar uma olhada neles"
      ],
      "metadata": {
        "id": "wDwvBjj4XpP8"
      }
    },
    {
      "cell_type": "markdown",
      "source": [
        "Vamos fazer um histograma dentro deste sub-dataframe"
      ],
      "metadata": {
        "id": "_U7sykqnYVkR"
      }
    },
    {
      "cell_type": "code",
      "source": [
        "px.histogram(x=dataframe_pedidos.query(\"valor_total < 5\")[\"valor_total\"])"
      ],
      "metadata": {
        "id": "_X_dBqQlYUO9"
      },
      "execution_count": null,
      "outputs": []
    },
    {
      "cell_type": "markdown",
      "source": [
        "Observamos que dos pedidos naquela faixa, temos que pratiamente todos eles tem o valor zerado. Geralmente as plataformas de ecommerce fazem isso em casos de troca: geram um novo pedido e dão o desconto cheio. Portanto, para pegarmos pedidos pagos, iremos filtrar além do status \"Pago\", apenas pedidos que possuem um valor."
      ],
      "metadata": {
        "id": "C07quPC2Yh_5"
      }
    },
    {
      "cell_type": "markdown",
      "source": [
        "### Filtrando a base"
      ],
      "metadata": {
        "id": "6mkTiIJMpkYt"
      }
    },
    {
      "cell_type": "code",
      "source": [
        "# Apenas pedidos pagos com valor (excluir trocas)\n",
        "dataframe_pedidos = dataframe_pedidos[dataframe_pedidos[\"status_resumido\"] == \"Pago\"]\n",
        "dataframe_pedidos = dataframe_pedidos[dataframe_pedidos[\"valor_total\"] > 0]\n",
        "\n",
        "# Excluir pedidos que não possuem ID do cliente\n",
        "dataframe_pedidos = dataframe_pedidos[~dataframe_pedidos[\"id_cliente\"].isna()]\n",
        "dataframe_pedidos[\"id_cliente\"] = dataframe_pedidos[\"id_cliente\"].astype(int)\n",
        "\n",
        "# Preencher data de pagamento de pedidos sem esta data com a data e criação\n",
        "dataframe_pedidos[\"data_pagamento\"] = dataframe_pedidos[\"data_pagamento\"].fillna(dataframe_pedidos[\"data_criacao\"])\n",
        "dataframe_pedidos = dataframe_pedidos.drop(columns=[\"Hora da criação do pedido\"])"
      ],
      "metadata": {
        "id": "9vkOVUzAploM"
      },
      "execution_count": null,
      "outputs": []
    },
    {
      "cell_type": "code",
      "source": [
        "dataframe_pedidos.info()"
      ],
      "metadata": {
        "id": "gpVwkG2-p2pU"
      },
      "execution_count": null,
      "outputs": []
    },
    {
      "cell_type": "code",
      "source": [
        "dataframe_pedidos.head()"
      ],
      "metadata": {
        "id": "4nVSrLoCptrd"
      },
      "execution_count": null,
      "outputs": []
    },
    {
      "cell_type": "code",
      "source": [
        "plt.hist(x = dataframe_pedidos['valor_total'], bins=100);"
      ],
      "metadata": {
        "id": "q18CKqA_tuHG"
      },
      "execution_count": null,
      "outputs": []
    },
    {
      "cell_type": "markdown",
      "source": [
        "## Análise RFV - Cruzando os dois datasets"
      ],
      "metadata": {
        "id": "d5MJgwDC0bZG"
      }
    },
    {
      "cell_type": "markdown",
      "source": [
        "A análise RFV (Recência, Frequência e Valor) atribui notas para cada cliente da base, analisando quantas vezes ele comprou, o valor total que ele gastou e quanto tempo faz que ele não compra. Entende-se que os melhores clientes são aqueles que compram e gastam muito, enquanto os piores são os que compraram uma vez há muito tempo atrás. Ela é útil para direcionarmos campanhas de marketing de acordo com a estratégia que a empresa quer seguir (exemplo: fidelizar clientes fieis em potencial, consolidar fidelidade de clientes fieis, ou captar novos clientes)"
      ],
      "metadata": {
        "id": "U-FKoQXfY624"
      }
    },
    {
      "cell_type": "code",
      "source": [
        "grouped_dataframe_pedidos = dataframe_pedidos.groupby(by=\"id_cliente\").agg(func={\n",
        "    \"valor_total\": \"sum\",\n",
        "    \"id_pedido\": \"count\",\n",
        "    \"data_pagamento\": \"max\",\n",
        "})\n",
        "\n",
        "grouped_dataframe_pedidos = grouped_dataframe_pedidos.rename(columns={\n",
        "    \"valor_total\": \"gmv\",\n",
        "    \"id_pedido\": \"quantidade_pedidos\",\n",
        "    \"data_pagamento\": \"ultimo_pedido\"\n",
        "}).reset_index()\n",
        "\n",
        "grouped_dataframe_pedidos[\"gmv\"] = grouped_dataframe_pedidos[\"gmv\"].round(2)\n",
        "grouped_dataframe_pedidos[\"dias_desde_ultimo_pedido\"] = (datetime(2023,9,1,0,0,0) - grouped_dataframe_pedidos[\"ultimo_pedido\"]).dt.days\n",
        "\n",
        "dataframe_rfv = grouped_dataframe_pedidos.merge(right=dataframe_clientes_final,\n",
        "               on=\"id_cliente\",\n",
        "               how=\"inner\")"
      ],
      "metadata": {
        "id": "qYd9kYTB0etU"
      },
      "execution_count": null,
      "outputs": []
    },
    {
      "cell_type": "code",
      "source": [
        "px.histogram(x=dataframe_rfv[\"quantidade_pedidos\"])"
      ],
      "metadata": {
        "id": "-VNNeHrjaC80"
      },
      "execution_count": null,
      "outputs": []
    },
    {
      "cell_type": "code",
      "source": [
        "px.histogram(x=dataframe_rfv[\"dias_desde_ultimo_pedido\"])"
      ],
      "metadata": {
        "id": "vQ5gtVoyaQYF"
      },
      "execution_count": null,
      "outputs": []
    },
    {
      "cell_type": "markdown",
      "source": [
        "Notamos que a maioria dos clientes comprou recentemente, mas este indicador está bem **pulverizado**. Já na quantidade de pedidos, vemos que boa parte da base comprou no máximo 2 vezes durante o período analisado"
      ],
      "metadata": {
        "id": "eqxcN9iCaZbS"
      }
    },
    {
      "cell_type": "code",
      "source": [
        "# Quartil quantidade_pedidos\n",
        "dataframe_rfv[\"quartil_quantidade_pedidos\"] = pd.cut(x=dataframe_rfv[\"quantidade_pedidos\"],\n",
        "                                                bins=[0.99, 1.99, 2.99, 3.99, 5.99, 999],\n",
        "                                                labels=[1, 2, 3, 4, 5],\n",
        "                                                )"
      ],
      "metadata": {
        "id": "lwLvtfMCZsut"
      },
      "execution_count": null,
      "outputs": []
    },
    {
      "cell_type": "code",
      "source": [
        "# Quartil dias desde o último pedido\n",
        "dataframe_rfv[\"quartil_dias_desde_ultimo_pedido\"] = pd.qcut(x=dataframe_rfv[\"dias_desde_ultimo_pedido\"],\n",
        "                                                q=5,\n",
        "                                                labels=[5,4,3,2,1])\n",
        "\n",
        "# Ticket médio\n",
        "dataframe_rfv[\"ticket_medio\"] = round(dataframe_rfv[\"gmv\"] / dataframe_rfv[\"quantidade_pedidos\"], 2)\n",
        "\n",
        "# Score RFV\n",
        "dataframe_rfv[\"score_rfv\"] = dataframe_rfv[\"quartil_dias_desde_ultimo_pedido\"].astype(str) + dataframe_rfv[\"quartil_quantidade_pedidos\"].astype(str)\n",
        "\n",
        "# Label <> Score\n",
        "seg_map = {\n",
        "    r'[1-2][1-2]': 'Hibernando',\n",
        "    r'[1-2][3-4]': 'Sob risco',\n",
        "    r'[1-2]5': 'Imperdível',\n",
        "    r'3[1-2]': 'Quase dormindo',\n",
        "    r'33': 'Requer atenção',\n",
        "    r'[3-4][4-5]': 'Cliente fiel',\n",
        "    r'41': 'Promessa',\n",
        "    r'51': 'Novos clientes',\n",
        "    r'[4-5][2-3]': 'Cliente fiel em potencial',\n",
        "    r'5[4-5]': 'Campeões'\n",
        "}\n",
        "dataframe_rfv[\"label_score_rfv\"] = dataframe_rfv[\"score_rfv\"].replace(seg_map, regex=True)"
      ],
      "metadata": {
        "id": "qdCDls100gok"
      },
      "execution_count": null,
      "outputs": []
    },
    {
      "cell_type": "code",
      "source": [
        "dataframe_rfv.head()"
      ],
      "metadata": {
        "id": "ie3z_OYl06Va"
      },
      "execution_count": null,
      "outputs": []
    },
    {
      "cell_type": "code",
      "source": [
        "dataframe_rfv.info()"
      ],
      "metadata": {
        "id": "Niz7-zVC0jBc"
      },
      "execution_count": null,
      "outputs": []
    },
    {
      "cell_type": "code",
      "source": [
        "dataframe_rfv.describe()"
      ],
      "metadata": {
        "id": "vuhvUJgogsn9"
      },
      "execution_count": null,
      "outputs": []
    },
    {
      "cell_type": "code",
      "source": [
        "grafico = px.scatter_matrix(dataframe_rfv, dimensions=['idade', 'gmv', 'dias_desde_ultimo_pedido'], color = 'label_score_rfv',\n",
        "                            color_discrete_map={\n",
        "        \"Hibernando\": \"#f80301\",\n",
        "        \"Quase dormindo\": \"#fc6702\",\n",
        "        \"Sob risco\": \"#fb9b00\",\n",
        "        \"Requer atenção\": \"#ffcc00\",\n",
        "        \"Imperdível\": \"#ffff00\",\n",
        "        \"Promessa\": \"#66cc00\",\n",
        "        \"Novos clientes\": \"#009900\",\n",
        "        \"Cliente fiel em potencial\": \"#006600\",\n",
        "        \"Cliente fiel\": \"#0033ff\",\n",
        "        \"Campeões\": \"#66009e\"\n",
        "    })\n",
        "grafico.update_traces(marker=dict(size=3))\n",
        "grafico.show()"
      ],
      "metadata": {
        "id": "YLijOF0gzbBb"
      },
      "execution_count": null,
      "outputs": []
    },
    {
      "cell_type": "code",
      "source": [
        "fig = px.scatter(\n",
        "    dataframe_rfv.sort_values(by=\"label_score_rfv\", ascending=True),\n",
        "    x=\"quantidade_pedidos\",\n",
        "    y=\"dias_desde_ultimo_pedido\",\n",
        "    size=\"gmv\",\n",
        "    color=\"label_score_rfv\",\n",
        "    color_discrete_map={\n",
        "        \"Hibernando\": \"#f80301\",\n",
        "        \"Quase dormindo\": \"#fc6702\",\n",
        "        \"Sob risco\": \"#fb9b00\",\n",
        "        \"Requer atenção\": \"#ffcc00\",\n",
        "        \"Imperdível\": \"#ffff00\",\n",
        "        \"Promessa\": \"#66cc00\",\n",
        "        \"Novos clientes\": \"#009900\",\n",
        "        \"Cliente fiel em potencial\": \"#006600\",\n",
        "        \"Cliente fiel\": \"#0033ff\",\n",
        "        \"Campeões\": \"#66009e\"\n",
        "    }\n",
        ")\n",
        "fig.update_layout(\n",
        "    yaxis = dict(autorange=\"reversed\"),\n",
        "    autosize=False,\n",
        "    width=1000,\n",
        "    height=800,\n",
        ")\n",
        "fig.show()"
      ],
      "metadata": {
        "id": "TdfmGebC1RL9"
      },
      "execution_count": null,
      "outputs": []
    },
    {
      "cell_type": "markdown",
      "source": [
        "## Estratégias de campanha"
      ],
      "metadata": {
        "id": "9PD4JOQHjfDF"
      }
    },
    {
      "cell_type": "markdown",
      "source": [
        "### 1 - Fidelizando novos clientes"
      ],
      "metadata": {
        "id": "7yYdthUKjhNK"
      }
    },
    {
      "cell_type": "markdown",
      "source": [
        "Vamos descobrir qual região e faixa etária tem a maior participação de clientes nas categorias Novos Clientes e Promessa\n",
        "\n"
      ],
      "metadata": {
        "id": "wUF69einkU6Y"
      }
    },
    {
      "cell_type": "markdown",
      "source": [
        "Por região"
      ],
      "metadata": {
        "id": "-wQPiVYilh_M"
      }
    },
    {
      "cell_type": "code",
      "source": [
        "df1 = dataframe_rfv[dataframe_rfv[\"label_score_rfv\"].isin([\n",
        "    \"Novos clientes\", \"Promessa\"\n",
        "])].groupby(\"regiao\").agg({\n",
        "    \"id_cliente\": \"count\"\n",
        "}).reset_index()\n",
        "\n",
        "df2 = dataframe_rfv.groupby(\"regiao\").agg({\n",
        "    \"id_cliente\": \"count\"\n",
        "}).reset_index()\n",
        "df = df1.merge(df2, on=\"regiao\")\n",
        "\n",
        "df[\"share_novos_regiao\"] = df[\"id_cliente_x\"] / df[\"id_cliente_y\"]\n",
        "df = df.drop(columns=[\"id_cliente_x\", \"id_cliente_y\"])\n",
        "df.sort_values(by=\"share_novos_regiao\", ascending=False)"
      ],
      "metadata": {
        "id": "05t6WYITkN99"
      },
      "execution_count": null,
      "outputs": []
    },
    {
      "cell_type": "markdown",
      "source": [
        "Vemos que as regiões Norte e Nordeste possuem o maior share de cliente novos ou promessas"
      ],
      "metadata": {
        "id": "ZmlZrA2jo6uP"
      }
    },
    {
      "cell_type": "code",
      "source": [
        "df1 = dataframe_rfv[dataframe_rfv[\"label_score_rfv\"].isin([\n",
        "    \"Novos clientes\", \"Promessa\"\n",
        "])].groupby(\"faixa_etaria\").agg({\n",
        "    \"id_cliente\": \"count\"\n",
        "}).reset_index()\n",
        "\n",
        "df2 = dataframe_rfv.groupby(\"faixa_etaria\").agg({\n",
        "    \"id_cliente\": \"count\"\n",
        "}).reset_index()\n",
        "df = df1.merge(df2, on=\"faixa_etaria\")\n",
        "df[\"share_novos_fx_etaria\"] = df[\"id_cliente_x\"] / df[\"id_cliente_y\"]\n",
        "df = df.drop(columns=[\"id_cliente_x\", \"id_cliente_y\"])\n",
        "df.sort_values(by=\"share_novos_fx_etaria\", ascending=False)"
      ],
      "metadata": {
        "id": "bMoGm90ml9E6"
      },
      "execution_count": null,
      "outputs": []
    },
    {
      "cell_type": "markdown",
      "source": [
        "Aqui observamos que a faixa etária com mais clientes novos ou promessas é a dos 15 a 17 anos."
      ],
      "metadata": {
        "id": "u3gueaUyp9Yv"
      }
    },
    {
      "cell_type": "markdown",
      "source": [
        "Porém... Só isso é suficiente para uma campanha de sucesso? Vamos fazer uma análise da participação nas vendas dessas categorias..."
      ],
      "metadata": {
        "id": "spGi8ZLqqGwJ"
      }
    },
    {
      "cell_type": "code",
      "source": [
        "df = dataframe_rfv.groupby(\"regiao\").agg({\n",
        "    \"gmv\": \"sum\"\n",
        "}).reset_index()\n",
        "px.pie(data_frame=df, names=df[\"regiao\"], values=df[\"gmv\"])"
      ],
      "metadata": {
        "id": "gRvitVCRo1p9"
      },
      "execution_count": null,
      "outputs": []
    },
    {
      "cell_type": "code",
      "source": [
        "df = dataframe_rfv.groupby(\"faixa_etaria\").agg({\n",
        "    \"gmv\": \"sum\"\n",
        "}).reset_index()\n",
        "px.pie(data_frame=df, names=df[\"faixa_etaria\"], values=df[\"gmv\"])"
      ],
      "metadata": {
        "id": "ZrFd7moqok9t"
      },
      "execution_count": null,
      "outputs": []
    },
    {
      "cell_type": "markdown",
      "source": [
        "Vemos que a região Nordeste é a terceira colocada no total de vendas, representando um share de vendas até que significativo. Por outro lado a faixa etária dos 15 aos 17 anos é praticamente irrelevante no share de vendas, por isso o parâmetro da idade não deve ter um peso relevante na hora de definir um público alvo neste caso.\n",
        "\n",
        "Portanto, uma sugestão de estratégia aos donos do négócio para conquistar novos clientes seria direcionar campanhas de marketing (propagandas ou cupons de desconto) na região Nordeste, tendo em vista que é uma região com share de vendas relevante nas vendas da empresa e ao mesmo tempo a região com maior captação de clientes novos. Caso a campanha queira ser mais direcionada, é interessante focar nas faixas etárias principais dos clientes, que no caso vimos ser dos 30 aos 45 anos."
      ],
      "metadata": {
        "id": "c-3aOw6Jq9tW"
      }
    },
    {
      "cell_type": "code",
      "source": [],
      "metadata": {
        "id": "CHXkZWUlrSN3"
      },
      "execution_count": null,
      "outputs": []
    },
    {
      "cell_type": "markdown",
      "source": [
        "## 2 - Consolidando clientes fiéis"
      ],
      "metadata": {
        "id": "hO9BcDJxsPML"
      }
    },
    {
      "cell_type": "markdown",
      "source": [
        "Vamos descobrir qual região e faixa etária tem a maior participação de clientes nas categorias Campeões e Clientes Fieis\n",
        "\n"
      ],
      "metadata": {
        "id": "GwaQf58-sW4A"
      }
    },
    {
      "cell_type": "code",
      "source": [
        "df1 = dataframe_rfv[dataframe_rfv[\"label_score_rfv\"].isin([\n",
        "    \"Campeões\", \"Cliente fiel\"\n",
        "])].groupby(\"regiao\").agg({\n",
        "    \"id_cliente\": \"count\"\n",
        "}).reset_index()\n",
        "\n",
        "df2 = dataframe_rfv.groupby(\"regiao\").agg({\n",
        "    \"id_cliente\": \"count\"\n",
        "}).reset_index()\n",
        "df = df1.merge(df2, on=\"regiao\")\n",
        "df[\"share_novos_regiao\"] = df[\"id_cliente_x\"] / df[\"id_cliente_y\"]\n",
        "df = df.drop(columns=[\"id_cliente_x\", \"id_cliente_y\"])\n",
        "df.sort_values(by=\"share_novos_regiao\", ascending=False)"
      ],
      "metadata": {
        "id": "0UCLMt81sTTX"
      },
      "execution_count": null,
      "outputs": []
    },
    {
      "cell_type": "code",
      "source": [
        "df1 = dataframe_rfv[dataframe_rfv[\"label_score_rfv\"].isin([\n",
        "    \"Campeões\", \"Cliente fiel\"\n",
        "])].groupby(\"faixa_etaria\").agg({\n",
        "    \"id_cliente\": \"count\"\n",
        "}).reset_index()\n",
        "\n",
        "df2 = dataframe_rfv.groupby(\"faixa_etaria\").agg({\n",
        "    \"id_cliente\": \"count\"\n",
        "}).reset_index()\n",
        "df = df1.merge(df2, on=\"faixa_etaria\")\n",
        "df[\"share_novos_fx_etaria\"] = df[\"id_cliente_x\"] / df[\"id_cliente_y\"]\n",
        "df = df.drop(columns=[\"id_cliente_x\", \"id_cliente_y\"])\n",
        "df.sort_values(by=\"share_novos_fx_etaria\", ascending=False)"
      ],
      "metadata": {
        "id": "8hglAB4_sg59"
      },
      "execution_count": null,
      "outputs": []
    },
    {
      "cell_type": "markdown",
      "source": [
        "Neste caso, observamos que a região Sudeste é onde se concentram os clientes mai fiéis da empresa. Além disso, vemos que clientes entre 55 e 64 tem um share expressivo de clientes nas categorias de campeões/fiéis. A participação nas vendas desses clientes como podemos ver acima é de 3,6%, o que pode parecer não muito relevante, porém com um número absoluto de quase R$ 400.000,00 em vendas, talvez faça sentido direcionar campanhas de consolidação da fidelidade a estes clientes (um cupom de desconto direcionado a clientes fieis, ou uma pré-venda de um novo produto, por exemplo). De qualquer forma, se abrirmos o leque para a segunda faixa etária mais relevante (45 a 54), temos um share combinado que beira os 17%, tornando a campanha ainda mais relevante"
      ],
      "metadata": {
        "id": "jvDqBDzes9Jq"
      }
    },
    {
      "cell_type": "code",
      "source": [],
      "metadata": {
        "id": "6UuHkRmZtytX"
      },
      "execution_count": null,
      "outputs": []
    }
  ]
}